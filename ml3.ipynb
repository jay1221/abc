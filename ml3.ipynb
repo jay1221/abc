{
 "cells": [
  {
   "cell_type": "code",
   "execution_count": 1,
   "metadata": {},
   "outputs": [],
   "source": [
    "import numpy as np\n",
    "import pandas as pd\n",
    "import matplotlib.pyplot as plt\n",
    "np.random.seed(123)"
   ]
  },
  {
   "cell_type": "code",
   "execution_count": 3,
   "metadata": {},
   "outputs": [
    {
     "data": {
      "text/html": [
       "<div>\n",
       "<style scoped>\n",
       "    .dataframe tbody tr th:only-of-type {\n",
       "        vertical-align: middle;\n",
       "    }\n",
       "\n",
       "    .dataframe tbody tr th {\n",
       "        vertical-align: top;\n",
       "    }\n",
       "\n",
       "    .dataframe thead th {\n",
       "        text-align: right;\n",
       "    }\n",
       "</style>\n",
       "<table border=\"1\" class=\"dataframe\">\n",
       "  <thead>\n",
       "    <tr style=\"text-align: right;\">\n",
       "      <th></th>\n",
       "      <th>id</th>\n",
       "      <th>diagnosis</th>\n",
       "      <th>radius_mean</th>\n",
       "      <th>texture_mean</th>\n",
       "      <th>area_mean</th>\n",
       "      <th>smoothness_mean</th>\n",
       "      <th>compactness_mean</th>\n",
       "      <th>concavity_mean</th>\n",
       "      <th>radius_worst</th>\n",
       "      <th>texture_worst</th>\n",
       "      <th>area_worst</th>\n",
       "      <th>smoothness_worst</th>\n",
       "      <th>compactness_worst</th>\n",
       "      <th>concavity_worst</th>\n",
       "    </tr>\n",
       "  </thead>\n",
       "  <tbody>\n",
       "    <tr>\n",
       "      <th>0</th>\n",
       "      <td>842302</td>\n",
       "      <td>M</td>\n",
       "      <td>17.99</td>\n",
       "      <td>10.38</td>\n",
       "      <td>1001.0</td>\n",
       "      <td>0.11840</td>\n",
       "      <td>0.27760</td>\n",
       "      <td>0.3001</td>\n",
       "      <td>25.38</td>\n",
       "      <td>17.33</td>\n",
       "      <td>2019.0</td>\n",
       "      <td>0.1622</td>\n",
       "      <td>0.6656</td>\n",
       "      <td>0.7119</td>\n",
       "    </tr>\n",
       "    <tr>\n",
       "      <th>1</th>\n",
       "      <td>842517</td>\n",
       "      <td>M</td>\n",
       "      <td>20.57</td>\n",
       "      <td>17.77</td>\n",
       "      <td>1326.0</td>\n",
       "      <td>0.08474</td>\n",
       "      <td>0.07864</td>\n",
       "      <td>0.0869</td>\n",
       "      <td>24.99</td>\n",
       "      <td>23.41</td>\n",
       "      <td>1956.0</td>\n",
       "      <td>0.1238</td>\n",
       "      <td>0.1866</td>\n",
       "      <td>0.2416</td>\n",
       "    </tr>\n",
       "    <tr>\n",
       "      <th>2</th>\n",
       "      <td>84300903</td>\n",
       "      <td>M</td>\n",
       "      <td>19.69</td>\n",
       "      <td>21.25</td>\n",
       "      <td>1203.0</td>\n",
       "      <td>0.10960</td>\n",
       "      <td>0.15990</td>\n",
       "      <td>0.1974</td>\n",
       "      <td>23.57</td>\n",
       "      <td>25.53</td>\n",
       "      <td>1709.0</td>\n",
       "      <td>0.1444</td>\n",
       "      <td>0.4245</td>\n",
       "      <td>0.4504</td>\n",
       "    </tr>\n",
       "    <tr>\n",
       "      <th>3</th>\n",
       "      <td>84348301</td>\n",
       "      <td>M</td>\n",
       "      <td>11.42</td>\n",
       "      <td>20.38</td>\n",
       "      <td>386.1</td>\n",
       "      <td>0.14250</td>\n",
       "      <td>0.28390</td>\n",
       "      <td>0.2414</td>\n",
       "      <td>14.91</td>\n",
       "      <td>26.50</td>\n",
       "      <td>567.7</td>\n",
       "      <td>0.2098</td>\n",
       "      <td>0.8663</td>\n",
       "      <td>0.6869</td>\n",
       "    </tr>\n",
       "    <tr>\n",
       "      <th>4</th>\n",
       "      <td>84358402</td>\n",
       "      <td>M</td>\n",
       "      <td>20.29</td>\n",
       "      <td>14.34</td>\n",
       "      <td>1297.0</td>\n",
       "      <td>0.10030</td>\n",
       "      <td>0.13280</td>\n",
       "      <td>0.1980</td>\n",
       "      <td>22.54</td>\n",
       "      <td>16.67</td>\n",
       "      <td>1575.0</td>\n",
       "      <td>0.1374</td>\n",
       "      <td>0.2050</td>\n",
       "      <td>0.4000</td>\n",
       "    </tr>\n",
       "  </tbody>\n",
       "</table>\n",
       "</div>"
      ],
      "text/plain": [
       "         id diagnosis  radius_mean  texture_mean  area_mean  smoothness_mean  \\\n",
       "0    842302         M        17.99         10.38     1001.0          0.11840   \n",
       "1    842517         M        20.57         17.77     1326.0          0.08474   \n",
       "2  84300903         M        19.69         21.25     1203.0          0.10960   \n",
       "3  84348301         M        11.42         20.38      386.1          0.14250   \n",
       "4  84358402         M        20.29         14.34     1297.0          0.10030   \n",
       "\n",
       "   compactness_mean  concavity_mean  radius_worst  texture_worst  area_worst  \\\n",
       "0           0.27760          0.3001         25.38          17.33      2019.0   \n",
       "1           0.07864          0.0869         24.99          23.41      1956.0   \n",
       "2           0.15990          0.1974         23.57          25.53      1709.0   \n",
       "3           0.28390          0.2414         14.91          26.50       567.7   \n",
       "4           0.13280          0.1980         22.54          16.67      1575.0   \n",
       "\n",
       "   smoothness_worst  compactness_worst  concavity_worst  \n",
       "0            0.1622             0.6656           0.7119  \n",
       "1            0.1238             0.1866           0.2416  \n",
       "2            0.1444             0.4245           0.4504  \n",
       "3            0.2098             0.8663           0.6869  \n",
       "4            0.1374             0.2050           0.4000  "
      ]
     },
     "execution_count": 3,
     "metadata": {},
     "output_type": "execute_result"
    }
   ],
   "source": [
    "#b i - reading from the dataset\n",
    "data = pd.read_csv('data.csv')\n",
    "data.head()"
   ]
  },
  {
   "cell_type": "code",
   "execution_count": 4,
   "metadata": {},
   "outputs": [
    {
     "data": {
      "text/html": [
       "<div>\n",
       "<style scoped>\n",
       "    .dataframe tbody tr th:only-of-type {\n",
       "        vertical-align: middle;\n",
       "    }\n",
       "\n",
       "    .dataframe tbody tr th {\n",
       "        vertical-align: top;\n",
       "    }\n",
       "\n",
       "    .dataframe thead th {\n",
       "        text-align: right;\n",
       "    }\n",
       "</style>\n",
       "<table border=\"1\" class=\"dataframe\">\n",
       "  <thead>\n",
       "    <tr style=\"text-align: right;\">\n",
       "      <th></th>\n",
       "      <th>id</th>\n",
       "      <th>diagnosis</th>\n",
       "      <th>radius_mean</th>\n",
       "      <th>texture_mean</th>\n",
       "      <th>area_mean</th>\n",
       "      <th>smoothness_mean</th>\n",
       "      <th>compactness_mean</th>\n",
       "      <th>concavity_mean</th>\n",
       "      <th>radius_worst</th>\n",
       "      <th>texture_worst</th>\n",
       "      <th>area_worst</th>\n",
       "      <th>smoothness_worst</th>\n",
       "      <th>compactness_worst</th>\n",
       "      <th>concavity_worst</th>\n",
       "    </tr>\n",
       "  </thead>\n",
       "  <tbody>\n",
       "    <tr>\n",
       "      <th>0</th>\n",
       "      <td>842302</td>\n",
       "      <td>0</td>\n",
       "      <td>17.99</td>\n",
       "      <td>10.38</td>\n",
       "      <td>1001.0</td>\n",
       "      <td>0.11840</td>\n",
       "      <td>0.27760</td>\n",
       "      <td>0.3001</td>\n",
       "      <td>25.38</td>\n",
       "      <td>17.33</td>\n",
       "      <td>2019.0</td>\n",
       "      <td>0.1622</td>\n",
       "      <td>0.6656</td>\n",
       "      <td>0.7119</td>\n",
       "    </tr>\n",
       "    <tr>\n",
       "      <th>1</th>\n",
       "      <td>842517</td>\n",
       "      <td>0</td>\n",
       "      <td>20.57</td>\n",
       "      <td>17.77</td>\n",
       "      <td>1326.0</td>\n",
       "      <td>0.08474</td>\n",
       "      <td>0.07864</td>\n",
       "      <td>0.0869</td>\n",
       "      <td>24.99</td>\n",
       "      <td>23.41</td>\n",
       "      <td>1956.0</td>\n",
       "      <td>0.1238</td>\n",
       "      <td>0.1866</td>\n",
       "      <td>0.2416</td>\n",
       "    </tr>\n",
       "    <tr>\n",
       "      <th>2</th>\n",
       "      <td>84300903</td>\n",
       "      <td>0</td>\n",
       "      <td>19.69</td>\n",
       "      <td>21.25</td>\n",
       "      <td>1203.0</td>\n",
       "      <td>0.10960</td>\n",
       "      <td>0.15990</td>\n",
       "      <td>0.1974</td>\n",
       "      <td>23.57</td>\n",
       "      <td>25.53</td>\n",
       "      <td>1709.0</td>\n",
       "      <td>0.1444</td>\n",
       "      <td>0.4245</td>\n",
       "      <td>0.4504</td>\n",
       "    </tr>\n",
       "    <tr>\n",
       "      <th>3</th>\n",
       "      <td>84348301</td>\n",
       "      <td>0</td>\n",
       "      <td>11.42</td>\n",
       "      <td>20.38</td>\n",
       "      <td>386.1</td>\n",
       "      <td>0.14250</td>\n",
       "      <td>0.28390</td>\n",
       "      <td>0.2414</td>\n",
       "      <td>14.91</td>\n",
       "      <td>26.50</td>\n",
       "      <td>567.7</td>\n",
       "      <td>0.2098</td>\n",
       "      <td>0.8663</td>\n",
       "      <td>0.6869</td>\n",
       "    </tr>\n",
       "    <tr>\n",
       "      <th>4</th>\n",
       "      <td>84358402</td>\n",
       "      <td>0</td>\n",
       "      <td>20.29</td>\n",
       "      <td>14.34</td>\n",
       "      <td>1297.0</td>\n",
       "      <td>0.10030</td>\n",
       "      <td>0.13280</td>\n",
       "      <td>0.1980</td>\n",
       "      <td>22.54</td>\n",
       "      <td>16.67</td>\n",
       "      <td>1575.0</td>\n",
       "      <td>0.1374</td>\n",
       "      <td>0.2050</td>\n",
       "      <td>0.4000</td>\n",
       "    </tr>\n",
       "  </tbody>\n",
       "</table>\n",
       "</div>"
      ],
      "text/plain": [
       "         id  diagnosis  radius_mean  texture_mean  area_mean  smoothness_mean  \\\n",
       "0    842302          0        17.99         10.38     1001.0          0.11840   \n",
       "1    842517          0        20.57         17.77     1326.0          0.08474   \n",
       "2  84300903          0        19.69         21.25     1203.0          0.10960   \n",
       "3  84348301          0        11.42         20.38      386.1          0.14250   \n",
       "4  84358402          0        20.29         14.34     1297.0          0.10030   \n",
       "\n",
       "   compactness_mean  concavity_mean  radius_worst  texture_worst  area_worst  \\\n",
       "0           0.27760          0.3001         25.38          17.33      2019.0   \n",
       "1           0.07864          0.0869         24.99          23.41      1956.0   \n",
       "2           0.15990          0.1974         23.57          25.53      1709.0   \n",
       "3           0.28390          0.2414         14.91          26.50       567.7   \n",
       "4           0.13280          0.1980         22.54          16.67      1575.0   \n",
       "\n",
       "   smoothness_worst  compactness_worst  concavity_worst  \n",
       "0            0.1622             0.6656           0.7119  \n",
       "1            0.1238             0.1866           0.2416  \n",
       "2            0.1444             0.4245           0.4504  \n",
       "3            0.2098             0.8663           0.6869  \n",
       "4            0.1374             0.2050           0.4000  "
      ]
     },
     "execution_count": 4,
     "metadata": {},
     "output_type": "execute_result"
    }
   ],
   "source": [
    "data['diagnosis'] = data['diagnosis'].map({'M':0,'B':1})\n",
    "data.head()"
   ]
  },
  {
   "cell_type": "code",
   "execution_count": 6,
   "metadata": {},
   "outputs": [
    {
     "name": "stdout",
     "output_type": "stream",
     "text": [
      "[[1.799e+01 1.038e+01 1.001e+03 ... 1.622e-01 6.656e-01 7.119e-01]\n",
      " [2.057e+01 1.777e+01 1.326e+03 ... 1.238e-01 1.866e-01 2.416e-01]\n",
      " [1.969e+01 2.125e+01 1.203e+03 ... 1.444e-01 4.245e-01 4.504e-01]\n",
      " ...\n",
      " [1.660e+01 2.808e+01 8.581e+02 ... 1.139e-01 3.094e-01 3.403e-01]\n",
      " [2.060e+01 2.933e+01 1.265e+03 ... 1.650e-01 8.681e-01 9.387e-01]\n",
      " [7.760e+00 2.454e+01 1.810e+02 ... 8.996e-02 6.444e-02 0.000e+00]]\n"
     ]
    }
   ],
   "source": [
    "#b ii - splitting the data to train and test data\n",
    "X = data.iloc[:,2:].values\n",
    "Y = data.iloc[:,1].values\n",
    "y_true = Y[:, np.newaxis]\n",
    "from sklearn.model_selection import train_test_split\n",
    "X_train, X_test, y_train, y_test = train_test_split(X, y_true)\n",
    "print(X)"
   ]
  },
  {
   "cell_type": "code",
   "execution_count": 7,
   "metadata": {},
   "outputs": [
    {
     "name": "stdout",
     "output_type": "stream",
     "text": [
      "[0 0 0 0 0 0 0 0 0 0 0 0 0 0 0 0 0 0 0 1 1 1 0 0 0 0 0 0 0 0 0 0 0 0 0 0 0\n",
      " 1 0 0 0 0 0 0 0 0 1 0 1 1 1 1 1 0 0 1 0 0 1 1 1 1 0 1 0 0 1 1 1 1 0 1 0 0\n",
      " 1 0 1 0 0 1 1 1 0 0 1 0 0 0 1 1 1 0 1 1 0 0 1 1 1 0 0 1 1 1 1 0 1 1 0 1 1\n",
      " 1 1 1 1 1 1 0 0 0 1 0 0 1 1 1 0 0 1 0 1 0 0 1 0 0 1 1 0 1 1 0 1 1 1 1 0 1\n",
      " 1 1 1 1 1 1 1 1 0 1 1 1 1 0 0 1 0 1 1 0 0 1 1 0 0 1 1 1 1 0 1 1 0 0 0 1 0\n",
      " 1 0 1 1 1 0 1 1 0 0 1 0 0 0 0 1 0 0 0 1 0 1 0 1 1 0 1 0 0 0 0 1 1 0 0 1 1\n",
      " 1 0 1 1 1 1 1 0 0 1 1 0 1 1 0 0 1 0 1 1 1 1 0 1 1 1 1 1 0 1 0 0 0 0 0 0 0\n",
      " 0 0 0 0 0 0 0 1 1 1 1 1 1 0 1 0 1 1 0 1 1 0 1 0 0 1 1 1 1 1 1 1 1 1 1 1 1\n",
      " 1 0 1 1 0 1 0 1 1 1 1 1 1 1 1 1 1 1 1 1 1 0 1 1 1 0 1 0 1 1 1 1 0 0 0 1 1\n",
      " 1 1 0 1 0 1 0 1 1 1 0 1 1 1 1 1 1 1 0 0 0 1 1 1 1 1 1 1 1 1 1 1 0 0 1 0 0\n",
      " 0 1 0 0 1 1 1 1 1 0 1 1 1 1 1 0 1 1 1 0 1 1 0 0 1 1 1 1 1 1 0 1 1 1 1 1 1\n",
      " 1 0 1 1 1 1 1 0 1 1 0 1 1 1 1 1 1 1 1 1 1 1 1 0 1 0 0 1 0 1 1 1 1 1 0 1 1\n",
      " 0 1 0 1 1 0 1 0 1 1 1 1 1 1 1 1 0 0 1 1 1 1 1 1 0 1 1 1 1 1 1 1 1 1 1 0 1\n",
      " 1 1 1 1 1 1 0 1 0 1 1 0 1 1 1 1 1 0 0 1 0 1 0 1 1 1 1 1 0 1 1 0 1 0 1 0 0\n",
      " 1 1 1 0 1 1 1 1 1 1 1 1 1 1 1 0 1 0 0 1 1 1 1 1 1 1 1 1 1 1 1 1 1 1 1 1 1\n",
      " 1 1 1 1 1 1 1 0 0 0 0 0 0 1]\n"
     ]
    }
   ],
   "source": [
    "print(Y)"
   ]
  },
  {
   "cell_type": "code",
   "execution_count": 8,
   "metadata": {},
   "outputs": [
    {
     "name": "stdout",
     "output_type": "stream",
     "text": [
      "Shape X_train: (426, 12)\n",
      "Shape y_train: (426, 1))\n",
      "Shape X_test: (143, 12)\n",
      "Shape y_test: (143, 1)\n"
     ]
    }
   ],
   "source": [
    "print(f'Shape X_train: {X_train.shape}')\n",
    "print(f'Shape y_train: {y_train.shape})')\n",
    "print(f'Shape X_test: {X_test.shape}')\n",
    "print(f'Shape y_test: {y_test.shape}')"
   ]
  },
  {
   "cell_type": "code",
   "execution_count": 9,
   "metadata": {},
   "outputs": [],
   "source": [
    "#b iii\n",
    "#Initialising learning rate, epochs\n",
    "class Perceptron(object):\n",
    "    def __init__(self,learning_rate,epochs):\n",
    "        self.learning_rate = learning_rate\n",
    "        self.epochs = epochs\n",
    "        \n",
    "#initialising weights, delta_w is the weight vector       \n",
    "    def fit(self,X,y):\n",
    "        self.weights = np.zeros(1+X.shape[1])\n",
    "        self.errors = []\n",
    "        for i in range(self.epochs):\n",
    "            error = 0\n",
    "            for xi, output in zip(X, Y):\n",
    "                delta_w = self.learning_rate * (output - self.predict(xi))\n",
    "                self.weights[1:] += delta_w * xi\n",
    "                self.weights[0] += delta_w\n",
    "                error += int(delta_w != 0.0)\n",
    "            self.errors.append(error)\n",
    "        return self.weights\n",
    "    \n",
    "    def inputs(self, X):\n",
    "        return np.dot(X, self.weights[1:]) + self.weights[0]\n",
    "    \n",
    "    #b iv - activation function\n",
    "    def predict(self, X):\n",
    "        return np.where(self.inputs(X) >= 0.0, 1, 0)"
   ]
  },
  {
   "cell_type": "code",
   "execution_count": 10,
   "metadata": {},
   "outputs": [],
   "source": [
    "perceptron = Perceptron(0.08,100)\n",
    "#b v-training the model\n",
    "trained_weights = perceptron.fit(X_train,y_train)"
   ]
  },
  {
   "cell_type": "code",
   "execution_count": 11,
   "metadata": {},
   "outputs": [
    {
     "name": "stdout",
     "output_type": "stream",
     "text": [
      "Learned weights \n",
      ":  [ 25.52       231.1364     -31.6864     -34.664        1.9641504\n",
      "  -5.658536    -8.25166687 194.78272    299.056       76.848\n",
      "   2.8346256  -14.6619216  -18.96629472]\n",
      "\n",
      "Learning rate :  0.08\n",
      "\n",
      "Epochs :  100\n"
     ]
    }
   ],
   "source": [
    "#b vi - printing the weights and the hyper parameters\n",
    "print(\"Learned weights \\n: \",trained_weights)\n",
    "print(\"\\nLearning rate : \",perceptron.learning_rate)\n",
    "print(\"\\nEpochs : \",perceptron.epochs)"
   ]
  },
  {
   "cell_type": "code",
   "execution_count": 12,
   "metadata": {},
   "outputs": [
    {
     "name": "stdout",
     "output_type": "stream",
     "text": [
      "[1 1 1 1 1 1 1 1 1 1 1 1 1 1 1 1 1 1 1 1 1 1 1 1 1 1 1 1 1 1 1 1 1 1 1 1 1\n",
      " 1 1 1 1 1 1 1 1 1 1 1 1 1 1 1 1 1 1 1 1 1 1 1 1 1 1 1 1 1 1 1 1 1 1 1 1 1\n",
      " 1 1 1 1 1 1 1 1 1 1 1 1 1 1 1 1 1 1 1 1 1 1 1 1 1 1 1 1 1 1 1 1 1 1 1 1 1\n",
      " 1 1 1 1 1 1 1 1 1 1 1 1 1 1 1 1 1 1 1 1 1 1 1 1 1 1 1 1 1 1 1 1 1 1 1 1 1\n",
      " 1 1 1 1 1 1 1 1 1 1 1 1 1 1 1 1 1 1 1 1 1 1 1 1 1 1 1 1 1 1 1 1 1 1 1 1 1\n",
      " 1 1 1 1 1 1 1 1 1 1 1 1 1 1 1 1 1 1 1 1 1 1 1 1 1 1 1 1 1 1 1 1 1 1 1 1 1\n",
      " 1 1 1 1 1 1 1 1 1 1 1 1 1 1 1 1 1 1 1 1 1 1 1 1 1 1 1 1 1 1 1 1 1 1 1 1 1\n",
      " 1 1 1 1 1 1 1 1 1 1 1 1 1 1 1 1 1 1 1 1 1 1 1 1 1 1 1 1 1 1 1 1 1 1 1 1 1\n",
      " 1 1 1 1 1 1 1 1 1 1 1 1 1 1 1 1 1 1 1 1 1 1 1 1 1 1 1 1 1 1 1 1 1 1 1 1 1\n",
      " 1 1 1 1 1 1 1 1 1 1 1 1 1 1 1 1 1 1 1 1 1 1 1 1 1 1 1 1 1 1 1 1 1 1 1 1 1\n",
      " 1 1 1 1 1 1 1 1 1 1 1 1 1 1 1 1 1 1 1 1 1 1 1 1 1 1 1 1 1 1 1 1 1 1 1 1 1\n",
      " 1 1 1 1 1 1 1 1 1 1 1 1 1 1 1 1 1 1 1]\n",
      "Training accuracy:  62.91079812206573  %\n",
      "Testing accuracy:  62.23776223776224  %\n"
     ]
    }
   ],
   "source": [
    "#b vii - predicting the outputs of train and test data\n",
    "y_predicted_train = perceptron.predict(X_train)\n",
    "y_predicted_test = perceptron.predict(X_test)\n",
    "\n",
    "print(y_predicted_train)\n",
    "print(\"Training accuracy: \",100 - np.mean(np.abs(y_predicted_train - y_train)) * 100,\" %\")\n",
    "print(\"Testing accuracy: \",100 - np.mean(np.abs(y_predicted_test - y_test)) * 100,\" %\")"
   ]
  },
  {
   "cell_type": "code",
   "execution_count": 53,
   "metadata": {},
   "outputs": [
    {
     "name": "stdout",
     "output_type": "stream",
     "text": [
      "\n",
      " TEST VALUES\n",
      "[[ 0 54]\n",
      " [ 0 89]]\n"
     ]
    },
    {
     "data": {
      "image/png": "[encoded data removed]",
      "text/plain": [
       "<Figure size 432x288 with 2 Axes>"
      ]
     },
     "metadata": {
      "needs_background": "light"
     },
     "output_type": "display_data"
    },
    {
     "name": "stdout",
     "output_type": "stream",
     "text": [
      "\n",
      " TRAIN VALUES\n",
      "[[  0 158]\n",
      " [  0 268]]\n"
     ]
    },
    {
     "data": {
      "image/png": "[encoded data removed]",
      "text/plain": [
       "<Figure size 432x288 with 2 Axes>"
      ]
     },
     "metadata": {
      "needs_background": "light"
     },
     "output_type": "display_data"
    }
   ],
   "source": [
    "from sklearn.metrics import confusion_matrix\n",
    "#test\n",
    "confusion_matrix_grid = confusion_matrix(y_test, y_predicted_test)\n",
    "print('\\n TEST VALUES')\n",
    "print(confusion_matrix_grid)\n",
    "\n",
    "figure = plt.figure()\n",
    "a = figure.add_subplot(111)\n",
    "b = a.matshow(confusion_matrix_grid)\n",
    "\n",
    "plt.title('Confusion matrix')\n",
    "figure.colorbar(b)\n",
    "\n",
    "plt.xlabel('Predicted')\n",
    "plt.ylabel('True')\n",
    "plt.show()\n",
    "#train\n",
    "confusion_matrix_grid = confusion_matrix(y_train, y_predicted_train)\n",
    "print('\\n TRAIN VALUES')\n",
    "print(confusion_matrix_grid)\n",
    "\n",
    "figure = plt.figure()\n",
    "a = figure.add_subplot(111)\n",
    "b = a.matshow(confusion_matrix_grid)\n",
    "\n",
    "plt.title('Confusion matrix')\n",
    "figure.colorbar(b)\n",
    "\n",
    "plt.xlabel('Predicted')\n",
    "plt.ylabel('True')\n",
    "plt.show()"
   ]
  },
  {
   "cell_type": "code",
   "execution_count": 14,
   "metadata": {},
   "outputs": [
    {
     "data": {
      "image/png": "[encoded data removed]",
      "text/plain": [
       "<Figure size 432x288 with 1 Axes>"
      ]
     },
     "metadata": {
      "needs_background": "light"
     },
     "output_type": "display_data"
    }
   ],
   "source": [
    "#Visualisation\n",
    "plt.plot(range(1, len(perceptron.errors) + 1), perceptron.errors, marker='o')\n",
    "plt.xlabel('Epochs[Number of iterations through the dataset]')\n",
    "plt.ylabel('Number of misclassifications')\n",
    "plt.show()"
   ]
  },
  {
   "cell_type": "code",
   "execution_count": 43,
   "metadata": {},
   "outputs": [
    {
     "name": "stdout",
     "output_type": "stream",
     "text": [
      "[['True positives' 'False negatives']\n",
      " ['False positives' 'True negatives']]\n",
      "\n",
      "\n",
      " [[89  0]\n",
      " [54  0]]\n"
     ]
    }
   ],
   "source": [
    "def performance_measure(y_test, y_predicted_test):\n",
    "    true_positives = 0\n",
    "    false_positives = 0\n",
    "    true_negatives = 0\n",
    "    false_negatives = 0\n",
    "\n",
    "    for i in range(len(y_predicted_test)): \n",
    "        if y_test[i]==y_predicted_test[i]==1:\n",
    "            true_positives += 1\n",
    "        if y_predicted_test[i]==1 and y_test[i]!=y_predicted_test[i]:\n",
    "            false_positives+= 1\n",
    "        if y_test[i]==y_predicted_test[i]==0:\n",
    "            true_negatives += 1\n",
    "        if y_predicted_test[i]==0 and y_test[i]!=y_predicted_test[i]:\n",
    "            false_negatives += 1\n",
    "           \n",
    "    \n",
    "    return(true_positives, false_negatives, false_positives,true_negatives)\n",
    "\n",
    "matrix = np.reshape(np.array(performance_measure(y_test,y_predicted_test)),(-1,2))\n",
    "print(np.reshape(np.array(['True positives','False negatives','False positives','True negatives']),(-1,2)))\n",
    "print (\"\\n\\n\",np.reshape(np.array(performance_measure(y_test,y_predicted_test)),(-1,2)))\n"
   ]
  },
  {
   "cell_type": "code",
   "execution_count": 44,
   "metadata": {},
   "outputs": [
    {
     "name": "stdout",
     "output_type": "stream",
     "text": [
      "[['accuracy' 'error_rate']\n",
      " ['precision' 'recall']]\n"
     ]
    }
   ],
   "source": [
    "def cal(true_positives,false_negatives, false_positives,true_negatives):\n",
    "    a = 0\n",
    "    b = 0\n",
    "    c = 0\n",
    "    d = 0\n",
    "    accuracy =0\n",
    "    error_rate = 0\n",
    "    precision = 0\n",
    "    recall = 0\n",
    "    \n",
    "    for j in range(len(false_negatives)):\n",
    "        a = (true_positives[j] + false_negatives[j])\n",
    "        b = (true_positives[j] + false_positives[j])\n",
    "        c = (true_positives[j] + false_negatives[j] + false_positives[j] + true_negatives[j])\n",
    "        d = (true_positives[j] + true_negatives[j])\n",
    "        \n",
    "        accuracy[j] = (d / c)\n",
    "        error_rate[j] = 1 - accuracy[j] \n",
    "        precision[j] = (true_positives[j] / b)\n",
    "        recall[j] = (true_positives[j] / a)\n",
    "        \n",
    "    return(accuracy,error_rate,precision,recall)\n",
    "\n",
    "print(np.reshape(np.array(['accuracy','error_rate','precision','recall']),(-1,2)))\n",
    "#print (\"\\n\\n\",cal(true_positives ,false_negatives, false_positives,true_negatives))\n"
   ]
  },
  {
   "cell_type": "code",
   "execution_count": 48,
   "metadata": {},
   "outputs": [],
   "source": [
    "def calculate(matrix):\n",
    "    TP = matrix[0,0]\n",
    "    FN = matrix[0,1]\n",
    "    FP = matrix[1,0]\n",
    "    TN = matrix[1,1]\n",
    "    \n",
    "    A = (TP+TN)/(TP+FN+FP+TN)\n",
    "    E = 1 - A\n",
    "    P = (TP) / (TP+FP)\n",
    "    R = TP/(TP+TN)\n",
    "    \n",
    "    print(f'Accuracy: {A * 100} %')\n",
    "    print(f'Error_rate: {E * 100} %')\n",
    "    print(f'Precision: {P * 100} %')\n",
    "    print(f'Recall: {R * 100} %')"
   ]
  },
  {
   "cell_type": "code",
   "execution_count": 49,
   "metadata": {},
   "outputs": [
    {
     "name": "stdout",
     "output_type": "stream",
     "text": [
      "Accuracy: 62.23776223776224 %\n",
      "Error_rate: 37.76223776223776 %\n",
      "Precision: 62.23776223776224 %\n",
      "Recall: 100.0 %\n"
     ]
    }
   ],
   "source": [
    "calculate(matrix)"
   ]
  },
  {
   "cell_type": "code",
   "execution_count": 50,
   "metadata": {},
   "outputs": [
    {
     "name": "stdout",
     "output_type": "stream",
     "text": [
      "[1 1 1 1 1 1 1 1 1 1 1 1 1 1 1 1 1 1 1 1 1 1 1 1 1 1 1 1 1 1 1 1 1 1 1 1 1\n",
      " 1 1 1 1 1 1 1 1 1 1 1 1 1 1 1 1 1 1 1 1 1 1 1 1 1 1 1 1 1 1 1 1 1 1 1 1 1\n",
      " 1 1 1 1 1 1 1 1 1 1 1 1 1 1 1 1 1 1 1 1 1 1 1 1 1 1 1 1 1 1 1 1 1 1 1 1 1\n",
      " 1 1 1 1 1 1 1 1 1 1 1 1 1 1 1 1 1 1 1 1 1 1 1 1 1 1 1 1 1 1 1 1]\n",
      "Training accuracy:  62.91079812206573  %\n",
      "Testing accuracy:  62.23776223776224  %\n"
     ]
    }
   ],
   "source": [
    "#b vii - predicting the outputs of train and test data\n",
    "y_predicted_train = perceptron.predict(X_train)\n",
    "y_predicted_test = perceptron.predict(X_test)\n",
    "\n",
    "print(y_predicted_test)\n",
    "print(\"Training accuracy: \",100 - np.mean(np.abs(y_predicted_train - y_train)) * 100,\" %\")\n",
    "print(\"Testing accuracy: \",100 - np.mean(np.abs(y_predicted_test - y_test)) * 100,\" %\")"
   ]
  },
  {
   "cell_type": "code",
   "execution_count": null,
   "metadata": {},
   "outputs": [],
   "source": []
  },
  {
   "cell_type": "code",
   "execution_count": null,
   "metadata": {},
   "outputs": [],
   "source": []
  }
 ],
 "metadata": {
  "kernelspec": {
   "display_name": "Python 3",
   "language": "python",
   "name": "python3"
  },
  "language_info": {
   "codemirror_mode": {
    "name": "ipython",
    "version": 3
   },
   "file_extension": ".py",
   "mimetype": "text/x-python",
   "name": "python",
   "nbconvert_exporter": "python",
   "pygments_lexer": "ipython3",
   "version": "3.8.2"
  }
 },
 "nbformat": 4,
 "nbformat_minor": 4
}
